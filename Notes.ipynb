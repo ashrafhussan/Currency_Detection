{
 "cells": [
  {
   "cell_type": "code",
   "execution_count": 1,
   "id": "f9a6927d",
   "metadata": {},
   "outputs": [],
   "source": [
    "import tensorflow as tf\n",
    "import os\n",
    "import numpy as np"
   ]
  },
  {
   "cell_type": "code",
   "execution_count": 2,
   "id": "7e072d1b",
   "metadata": {},
   "outputs": [],
   "source": [
    "base_dir=r\"G:\\Online Class\\Thesis Related\\Dataset_of_Notes\\Dataset\""
   ]
  },
  {
   "cell_type": "code",
   "execution_count": 3,
   "id": "46c2ee15",
   "metadata": {},
   "outputs": [],
   "source": [
    "IMAGE_SIZE=224\n",
    "BATCH_SIZE=64\n",
    "\n",
    "train_datagen=tf.keras.preprocessing.image.ImageDataGenerator(\n",
    "    \n",
    "    \n",
    "    rescale=1./255,\n",
    "    zoom_range=0.2,\n",
    "    horizontal_flip=True,\n",
    "    validation_split=0.2)\n",
    "\n",
    "validation_datagen=tf.keras.preprocessing.image.ImageDataGenerator(\n",
    "    rescale=1./255,\n",
    "    \n",
    "    validation_split=0.2\n",
    ")"
   ]
  },
  {
   "cell_type": "code",
   "execution_count": 4,
   "id": "0d977b01",
   "metadata": {},
   "outputs": [
    {
     "name": "stdout",
     "output_type": "stream",
     "text": [
      "Found 60435 images belonging to 9 classes.\n",
      "Found 15105 images belonging to 9 classes.\n"
     ]
    }
   ],
   "source": [
    "train_genarator=train_datagen.flow_from_directory(\n",
    "    base_dir,\n",
    "    target_size=(IMAGE_SIZE,IMAGE_SIZE),\n",
    "    batch_size=BATCH_SIZE,\n",
    "    subset='training'\n",
    "    \n",
    "\n",
    ") \n",
    "\n",
    "validation_generator=validation_datagen.flow_from_directory(\n",
    "    base_dir,\n",
    "    target_size=(IMAGE_SIZE,IMAGE_SIZE),\n",
    "    batch_size=BATCH_SIZE,\n",
    "    subset='validation'\n",
    ") "
   ]
  },
  {
   "cell_type": "code",
   "execution_count": 5,
   "id": "8c609e4c",
   "metadata": {},
   "outputs": [],
   "source": [
    "from tensorflow.keras.layers import Input,Flatten,Dense\n",
    "from tensorflow.keras.models import Model\n",
    "from tensorflow.keras.applications.vgg16 import VGG16\n",
    "from tensorflow.keras.models import Sequential\n",
    "from glob import glob"
   ]
  },
  {
   "cell_type": "code",
   "execution_count": 6,
   "id": "cec3fc57",
   "metadata": {},
   "outputs": [
    {
     "data": {
      "text/plain": [
       "<KerasTensor: shape=(None, 7, 7, 512) dtype=float32 (created by layer 'block5_pool')>"
      ]
     },
     "execution_count": 6,
     "metadata": {},
     "output_type": "execute_result"
    }
   ],
   "source": [
    "IMAGE_SIZE=[224,224]\n",
    "vgg=VGG16(input_shape=IMAGE_SIZE+[3],weights='imagenet',include_top=False)\n",
    "vgg.output"
   ]
  },
  {
   "cell_type": "code",
   "execution_count": 7,
   "id": "231aaebd",
   "metadata": {},
   "outputs": [],
   "source": [
    "for layer in vgg.layers:\n",
    "    layer.trainable=False"
   ]
  },
  {
   "cell_type": "code",
   "execution_count": 8,
   "id": "e14b03bf",
   "metadata": {},
   "outputs": [
    {
     "name": "stdout",
     "output_type": "stream",
     "text": [
      "9\n"
     ]
    }
   ],
   "source": [
    "folders=glob(r\"G:\\Online Class\\Thesis Related\\Dataset_of_Notes\\Dataset\\*\")\n",
    "print(len(folders))"
   ]
  },
  {
   "cell_type": "code",
   "execution_count": 9,
   "id": "bd7ad6d0",
   "metadata": {},
   "outputs": [
    {
     "name": "stdout",
     "output_type": "stream",
     "text": [
      "Model: \"model\"\n",
      "_________________________________________________________________\n",
      " Layer (type)                Output Shape              Param #   \n",
      "=================================================================\n",
      " input_1 (InputLayer)        [(None, 224, 224, 3)]     0         \n",
      "                                                                 \n",
      " block1_conv1 (Conv2D)       (None, 224, 224, 64)      1792      \n",
      "                                                                 \n",
      " block1_conv2 (Conv2D)       (None, 224, 224, 64)      36928     \n",
      "                                                                 \n",
      " block1_pool (MaxPooling2D)  (None, 112, 112, 64)      0         \n",
      "                                                                 \n",
      " block2_conv1 (Conv2D)       (None, 112, 112, 128)     73856     \n",
      "                                                                 \n",
      " block2_conv2 (Conv2D)       (None, 112, 112, 128)     147584    \n",
      "                                                                 \n",
      " block2_pool (MaxPooling2D)  (None, 56, 56, 128)       0         \n",
      "                                                                 \n",
      " block3_conv1 (Conv2D)       (None, 56, 56, 256)       295168    \n",
      "                                                                 \n",
      " block3_conv2 (Conv2D)       (None, 56, 56, 256)       590080    \n",
      "                                                                 \n",
      " block3_conv3 (Conv2D)       (None, 56, 56, 256)       590080    \n",
      "                                                                 \n",
      " block3_pool (MaxPooling2D)  (None, 28, 28, 256)       0         \n",
      "                                                                 \n",
      " block4_conv1 (Conv2D)       (None, 28, 28, 512)       1180160   \n",
      "                                                                 \n",
      " block4_conv2 (Conv2D)       (None, 28, 28, 512)       2359808   \n",
      "                                                                 \n",
      " block4_conv3 (Conv2D)       (None, 28, 28, 512)       2359808   \n",
      "                                                                 \n",
      " block4_pool (MaxPooling2D)  (None, 14, 14, 512)       0         \n",
      "                                                                 \n",
      " block5_conv1 (Conv2D)       (None, 14, 14, 512)       2359808   \n",
      "                                                                 \n",
      " block5_conv2 (Conv2D)       (None, 14, 14, 512)       2359808   \n",
      "                                                                 \n",
      " block5_conv3 (Conv2D)       (None, 14, 14, 512)       2359808   \n",
      "                                                                 \n",
      " block5_pool (MaxPooling2D)  (None, 7, 7, 512)         0         \n",
      "                                                                 \n",
      " flatten (Flatten)           (None, 25088)             0         \n",
      "                                                                 \n",
      " dense (Dense)               (None, 9)                 225801    \n",
      "                                                                 \n",
      "=================================================================\n",
      "Total params: 14940489 (56.99 MB)\n",
      "Trainable params: 225801 (882.04 KB)\n",
      "Non-trainable params: 14714688 (56.13 MB)\n",
      "_________________________________________________________________\n"
     ]
    }
   ],
   "source": [
    "x=Flatten()(vgg.output)\n",
    "prediction=Dense(len(folders),activation='softmax')(x)\n",
    "model=Model(inputs=vgg.input,outputs=prediction)\n",
    "model.summary()"
   ]
  },
  {
   "cell_type": "code",
   "execution_count": 10,
   "id": "1fdfcd00",
   "metadata": {},
   "outputs": [],
   "source": [
    "model.compile(loss='binary_crossentropy', optimizer='adam', metrics=['accuracy'])"
   ]
  },
  {
   "cell_type": "code",
   "execution_count": 11,
   "id": "9944d8e4",
   "metadata": {},
   "outputs": [
    {
     "name": "stdout",
     "output_type": "stream",
     "text": [
      "Epoch 1/5\n",
      "945/945 [==============================] - 24024s 25s/step - loss: 0.0271 - accuracy: 0.9765 - val_loss: 0.0668 - val_accuracy: 0.9009\n",
      "Epoch 2/5\n",
      "945/945 [==============================] - 26024s 28s/step - loss: 0.0021 - accuracy: 0.9999 - val_loss: 0.0612 - val_accuracy: 0.9088\n",
      "Epoch 3/5\n",
      "945/945 [==============================] - 24440s 26s/step - loss: 9.4945e-04 - accuracy: 0.9999 - val_loss: 0.0644 - val_accuracy: 0.9027\n",
      "Epoch 4/5\n",
      "945/945 [==============================] - 24019s 25s/step - loss: 5.5386e-04 - accuracy: 0.9999 - val_loss: 0.0637 - val_accuracy: 0.9121\n",
      "Epoch 5/5\n",
      "945/945 [==============================] - 24185s 26s/step - loss: 3.3992e-04 - accuracy: 1.0000 - val_loss: 0.0631 - val_accuracy: 0.9123\n"
     ]
    }
   ],
   "source": [
    "epoch=5\n",
    "history=model.fit(train_genarator,\n",
    "                  steps_per_epoch=len(train_genarator),\n",
    "                  epochs=epoch,\n",
    "                  validation_data=validation_generator,\n",
    "                  validation_steps=len(validation_generator)\n",
    "                 )"
   ]
  },
  {
   "cell_type": "code",
   "execution_count": 55,
   "id": "88796417",
   "metadata": {},
   "outputs": [],
   "source": [
    "import numpy as np\n",
    "from tensorflow.keras.models import load_model\n",
    "import warnings\n",
    "warnings.filterwarnings('ignore')\n",
    "\n",
    "model.save(\"your_trained_model.h5\")"
   ]
  },
  {
   "cell_type": "code",
   "execution_count": 2,
   "id": "947faff6",
   "metadata": {
    "scrolled": true
   },
   "outputs": [
    {
     "name": "stdout",
     "output_type": "stream",
     "text": [
      "1/1 [==============================] - 2s 2s/step\n"
     ]
    }
   ],
   "source": [
    "#testing software 04 05 40 \n",
    "import tkinter as tk\n",
    "from tkinter import filedialog\n",
    "from PIL import Image, ImageTk\n",
    "import numpy as np\n",
    "import tensorflow as tf\n",
    "\n",
    "# Set the paths to your image folders\n",
    "#train_dir = 'D:/potatoo/images/Kriisan/train'\n",
    "#validation_dir = 'D:/potatoo/images/Kriisan/validation'\n",
    "#test_dir = 'D:/potatoo/images/Kriisan/test'\n",
    "\n",
    "# Set the parameters for the data generators\n",
    "batch_size = 64\n",
    "img_height, img_width = 224, 224\n",
    "\n",
    "# Define the class names\n",
    "class_names = [\"2tk\",\"5tk\",\"10tk\",\"20tk\",\"50tk\",\"100tk\",\"200tk\",\"500tk\",\"1000tk\"]#Potato___Late_blight\n",
    "\n",
    "# Load the trained model\n",
    "model = tf.keras.models.load_model(r\"C:\\Users\\User\\Desktop\\Thesis\\Work\\notes_detection.h5\")\n",
    "#D:/potatoo/images/Kriisan/hiShuvolast.h5 \n",
    "# Create the Tkinter GUI\n",
    "root = tk.Tk()\n",
    "root.title(\"Bangladeshi Currency Classification\")\n",
    "root.geometry(\"600x400\")\n",
    "root.configure(bg=\"yellow\")  # Set the window background color\n",
    "\n",
    "# Function to classify the selected image\n",
    "def classify_image():\n",
    "    file_path = filedialog.askopenfilename()\n",
    "    \n",
    "    if file_path:\n",
    "        # Load and preprocess the image\n",
    "        image = Image.open(file_path)\n",
    "        image = image.resize((img_width, img_height))\n",
    "        image = image.convert(\"RGB\")\n",
    "        image_array = np.array(image) / 255.0\n",
    "        image_array = np.expand_dims(image_array, axis=0)\n",
    "\n",
    "        # Make a prediction\n",
    "        prediction = model.predict(image_array)\n",
    "        predicted_class_index = np.argmax(prediction)\n",
    "        predicted_class = class_names[predicted_class_index]\n",
    "        accuracy = prediction[0][predicted_class_index]\n",
    "\n",
    "        # Display the image and prediction\n",
    "        image = ImageTk.PhotoImage(image)  # Convert PIL image to Tkinter PhotoImage\n",
    "        image_label.configure(image=image)\n",
    "        image_label.image = image  # Store a reference to the image to prevent garbage collection\n",
    "\n",
    "        result_label.config(text=f\"Predicted class: {predicted_class}\\nAccuracy: {accuracy:.2%}\")\n",
    "    else:\n",
    "        result_label.config(text=\"No image selected.\")\n",
    "\n",
    "# Create GUI components\n",
    "select_button = tk.Button(root, text=\"Select Image\", command=classify_image, bg=\"hotpink\", fg=\"white\")  # Set the button color\n",
    "select_button.pack(pady=10)\n",
    "\n",
    "image_label = tk.Label(root)\n",
    "image_label.pack(pady=10)\n",
    "\n",
    "result_label = tk.Label(root, font=(\"Arial\", 12))\n",
    "result_label.pack(pady=10)\n",
    "\n",
    "# Run the Tkinter event loop\n",
    "root.mainloop()\n"
   ]
  },
  {
   "cell_type": "code",
   "execution_count": 51,
   "id": "fd14b8db",
   "metadata": {},
   "outputs": [
    {
     "data": {
      "image/png": "[encoded data removed]",
      "text/plain": [
       "<Figure size 640x480 with 1 Axes>"
      ]
     },
     "metadata": {},
     "output_type": "display_data"
    }
   ],
   "source": [
    "import matplotlib.pyplot as plt\n",
    "plt.plot(history.history['accuracy'],color='red',label='train')\n",
    "plt.plot(history.history['val_accuracy'],color='blue',label='validation')\n",
    "plt.title('Accuracy Plot')\n",
    "plt.xlabel('No of epoch')\n",
    "plt.ylabel('Percentage of accuracy')\n",
    "plt.grid(True)\n",
    "plt.legend()\n",
    "plt.show()"
   ]
  },
  {
   "cell_type": "code",
   "execution_count": 52,
   "id": "24a66308",
   "metadata": {},
   "outputs": [
    {
     "data": {
      "image/png": "[encoded data removed]",
      "text/plain": [
       "<Figure size 640x480 with 1 Axes>"
      ]
     },
     "metadata": {},
     "output_type": "display_data"
    }
   ],
   "source": [
    "plt.plot(history.history['loss'],color='red',label='train')\n",
    "plt.plot(history.history['val_loss'],color='blue',label='validation')\n",
    "plt.title('Loss Plot')\n",
    "plt.xlabel('No of epoch')\n",
    "plt.ylabel('Percentage of accuracy')\n",
    "plt.grid(True)\n",
    "plt.legend()\n",
    "plt.show()"
   ]
  },
  {
   "cell_type": "code",
   "execution_count": null,
   "id": "2d00a4c8",
   "metadata": {},
   "outputs": [],
   "source": []
  }
 ],
 "metadata": {
  "kernelspec": {
   "display_name": "Python 3 (ipykernel)",
   "language": "python",
   "name": "python3"
  },
  "language_info": {
   "codemirror_mode": {
    "name": "ipython",
    "version": 3
   },
   "file_extension": ".py",
   "mimetype": "text/x-python",
   "name": "python",
   "nbconvert_exporter": "python",
   "pygments_lexer": "ipython3",
   "version": "3.9.13"
  }
 },
 "nbformat": 4,
 "nbformat_minor": 5
}
